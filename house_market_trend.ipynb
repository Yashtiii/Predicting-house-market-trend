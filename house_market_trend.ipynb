{
  "cells": [
    {
      "cell_type": "markdown",
      "id": "2d44e477",
      "metadata": {
        "id": "2d44e477"
      },
      "source": [
        "## Core concepts"
      ]
    },
    {
      "cell_type": "markdown",
      "id": "ed035a0b",
      "metadata": {
        "id": "ed035a0b"
      },
      "source": [
        "- **Regression:** Regression predicts a continuous number. It gives real values as outcome. Prediction.\n",
        "- **Classification:** Classification predicts a categorical label. It gives a label as outcome. Yes no values.\n",
        "- **Target Variable Analysis:** Here we examine the features of a target variable which is dependent in nature. It is necessary because once we have examined what our target variable is like then we can set the other data accordingly to get good results in analysis. It also involved transformation. This step profiles the target variable to align preprocessing, transformation, and modeling strategies for better results\n",
        "- **Advanced data preprocessing:** It is like data processing, here we apply even more advanced strategies to pre process data.\n",
        "- **Feature Engineering:** Here we create new features using the pre-existing ones to get better information or underlying information that our data holds.\n",
        "- **Categorical Encoding:** When we have categorical values in our columns and we change it to numrical ones then it is known as categorical encoding. Binary classification\n",
        "- **Model Building:** It is the process of training and validating an algorithm with the use dependent and independent variables.\n",
        "- **Model Evaluation:** Once our model is training then we test our model to evaluate the accuracy of our model, that is known as model evaluation."
      ]
    },
    {
      "cell_type": "markdown",
      "id": "0d240070",
      "metadata": {
        "id": "0d240070"
      },
      "source": [
        "## Importing libraries"
      ]
    },
    {
      "cell_type": "markdown",
      "id": "b12bd709",
      "metadata": {
        "id": "b12bd709"
      },
      "source": [
        "- **pandas:** used to perform operations on structured data with tables\n",
        "- **numpy:** used to perform mathematical operations on arrays, matrices\n",
        "- **matplotlib.pyplot:** used to plotting rows and columns in different kinds of charts (basic)\n",
        "- **seaborn:** holds a collection of graphs and charts which can plot and visualize data in a better way (advanced) (built on matplotlib)\n",
        "- **scipy.stats:** provides statistical functions, here **skew** measures asymmetry in data distribution\n",
        "- **sklearn.model_selection:** **(train_test_split)** splits dataset into training and testing sets for model validation\n",
        "- **sklearn.preprocessing:** **(StandardScaler, LabelEncoder)** StandardScaler normalizes numeric features to a normal scale, LabelEncoder converts categorical labels to numbers.\n",
        "- A **Z-score** (or standard score) measures how many standard deviations a data point is away from the mean of a dataset, using the formula: ***z = (data point - mean) / standard deviation***\n",
        "- **sklearn.linear_model:** **LinearRegression** for linear regresion, linear regression is a machine learning algorithm based on the equation y = mx + c\n",
        "**sklearn.metrics:** **(mean_squared_error, r2_score, mean_absolute_error)** these are metrics to evaluate a regression model's accuracy and error\n",
        "**xgboost:** It's an efficient library for powerful machine learning models, often used for structured(tables) data prediction\n",
        "**os:** provides operating system interaction capabilities."
      ]
    },
    {
      "cell_type": "code",
      "execution_count": 2,
      "id": "88bbb1ab",
      "metadata": {
        "id": "88bbb1ab"
      },
      "outputs": [],
      "source": [
        "import pandas as pd\n",
        "import numpy as np\n",
        "import matplotlib.pyplot as plt\n",
        "import seaborn as sns\n",
        "from scipy.stats import skew\n",
        "from sklearn.model_selection import train_test_split\n",
        "from sklearn.preprocessing import StandardScaler, LabelEncoder\n",
        "from sklearn.linear_model import LinearRegression\n",
        "from sklearn.metrics import mean_squared_error, r2_score, mean_absolute_error\n",
        "import xgboost as xgb\n",
        "import os"
      ]
    },
    {
      "cell_type": "code",
      "execution_count": 3,
      "id": "3ddf7e8b",
      "metadata": {
        "id": "3ddf7e8b"
      },
      "outputs": [],
      "source": [
        "# setting plot style\n",
        "sns.set_style('whitegrid')"
      ]
    },
    {
      "cell_type": "markdown",
      "id": "d220cab7",
      "metadata": {
        "id": "d220cab7"
      },
      "source": [
        "## Data loading via kaggle"
      ]
    },
    {
      "cell_type": "code",
      "execution_count": 4,
      "id": "6731d14e",
      "metadata": {
        "id": "6731d14e"
      },
      "outputs": [],
      "source": [
        "!pip install -q kaggle"
      ]
    },
    {
      "cell_type": "markdown",
      "id": "2kSAKg6tX8EN",
      "metadata": {
        "id": "2kSAKg6tX8EN"
      },
      "source": [
        "- the google.colab import files is used for performing file operations in colab environment\n",
        "- With the use of os library we used it's function files.upload() to load a file from our storage."
      ]
    },
    {
      "cell_type": "code",
      "execution_count": null,
      "id": "IJWJrkEKXHzl",
      "metadata": {
        "colab": {
          "base_uri": "https://localhost:8080/",
          "height": 38
        },
        "id": "IJWJrkEKXHzl",
        "outputId": "249647c3-e1f7-4f9b-f99c-1a5bc9aed287"
      },
      "outputs": [
        {
          "output_type": "display_data",
          "data": {
            "text/plain": [
              "<IPython.core.display.HTML object>"
            ],
            "text/html": [
              "\n",
              "     <input type=\"file\" id=\"files-b7a8259d-2b17-4b14-a4cd-39f296aaf99d\" name=\"files[]\" multiple disabled\n",
              "        style=\"border:none\" />\n",
              "     <output id=\"result-b7a8259d-2b17-4b14-a4cd-39f296aaf99d\">\n",
              "      Upload widget is only available when the cell has been executed in the\n",
              "      current browser session. Please rerun this cell to enable.\n",
              "      </output>\n",
              "      <script>// Copyright 2017 Google LLC\n",
              "//\n",
              "// Licensed under the Apache License, Version 2.0 (the \"License\");\n",
              "// you may not use this file except in compliance with the License.\n",
              "// You may obtain a copy of the License at\n",
              "//\n",
              "//      http://www.apache.org/licenses/LICENSE-2.0\n",
              "//\n",
              "// Unless required by applicable law or agreed to in writing, software\n",
              "// distributed under the License is distributed on an \"AS IS\" BASIS,\n",
              "// WITHOUT WARRANTIES OR CONDITIONS OF ANY KIND, either express or implied.\n",
              "// See the License for the specific language governing permissions and\n",
              "// limitations under the License.\n",
              "\n",
              "/**\n",
              " * @fileoverview Helpers for google.colab Python module.\n",
              " */\n",
              "(function(scope) {\n",
              "function span(text, styleAttributes = {}) {\n",
              "  const element = document.createElement('span');\n",
              "  element.textContent = text;\n",
              "  for (const key of Object.keys(styleAttributes)) {\n",
              "    element.style[key] = styleAttributes[key];\n",
              "  }\n",
              "  return element;\n",
              "}\n",
              "\n",
              "// Max number of bytes which will be uploaded at a time.\n",
              "const MAX_PAYLOAD_SIZE = 100 * 1024;\n",
              "\n",
              "function _uploadFiles(inputId, outputId) {\n",
              "  const steps = uploadFilesStep(inputId, outputId);\n",
              "  const outputElement = document.getElementById(outputId);\n",
              "  // Cache steps on the outputElement to make it available for the next call\n",
              "  // to uploadFilesContinue from Python.\n",
              "  outputElement.steps = steps;\n",
              "\n",
              "  return _uploadFilesContinue(outputId);\n",
              "}\n",
              "\n",
              "// This is roughly an async generator (not supported in the browser yet),\n",
              "// where there are multiple asynchronous steps and the Python side is going\n",
              "// to poll for completion of each step.\n",
              "// This uses a Promise to block the python side on completion of each step,\n",
              "// then passes the result of the previous step as the input to the next step.\n",
              "function _uploadFilesContinue(outputId) {\n",
              "  const outputElement = document.getElementById(outputId);\n",
              "  const steps = outputElement.steps;\n",
              "\n",
              "  const next = steps.next(outputElement.lastPromiseValue);\n",
              "  return Promise.resolve(next.value.promise).then((value) => {\n",
              "    // Cache the last promise value to make it available to the next\n",
              "    // step of the generator.\n",
              "    outputElement.lastPromiseValue = value;\n",
              "    return next.value.response;\n",
              "  });\n",
              "}\n",
              "\n",
              "/**\n",
              " * Generator function which is called between each async step of the upload\n",
              " * process.\n",
              " * @param {string} inputId Element ID of the input file picker element.\n",
              " * @param {string} outputId Element ID of the output display.\n",
              " * @return {!Iterable<!Object>} Iterable of next steps.\n",
              " */\n",
              "function* uploadFilesStep(inputId, outputId) {\n",
              "  const inputElement = document.getElementById(inputId);\n",
              "  inputElement.disabled = false;\n",
              "\n",
              "  const outputElement = document.getElementById(outputId);\n",
              "  outputElement.innerHTML = '';\n",
              "\n",
              "  const pickedPromise = new Promise((resolve) => {\n",
              "    inputElement.addEventListener('change', (e) => {\n",
              "      resolve(e.target.files);\n",
              "    });\n",
              "  });\n",
              "\n",
              "  const cancel = document.createElement('button');\n",
              "  inputElement.parentElement.appendChild(cancel);\n",
              "  cancel.textContent = 'Cancel upload';\n",
              "  const cancelPromise = new Promise((resolve) => {\n",
              "    cancel.onclick = () => {\n",
              "      resolve(null);\n",
              "    };\n",
              "  });\n",
              "\n",
              "  // Wait for the user to pick the files.\n",
              "  const files = yield {\n",
              "    promise: Promise.race([pickedPromise, cancelPromise]),\n",
              "    response: {\n",
              "      action: 'starting',\n",
              "    }\n",
              "  };\n",
              "\n",
              "  cancel.remove();\n",
              "\n",
              "  // Disable the input element since further picks are not allowed.\n",
              "  inputElement.disabled = true;\n",
              "\n",
              "  if (!files) {\n",
              "    return {\n",
              "      response: {\n",
              "        action: 'complete',\n",
              "      }\n",
              "    };\n",
              "  }\n",
              "\n",
              "  for (const file of files) {\n",
              "    const li = document.createElement('li');\n",
              "    li.append(span(file.name, {fontWeight: 'bold'}));\n",
              "    li.append(span(\n",
              "        `(${file.type || 'n/a'}) - ${file.size} bytes, ` +\n",
              "        `last modified: ${\n",
              "            file.lastModifiedDate ? file.lastModifiedDate.toLocaleDateString() :\n",
              "                                    'n/a'} - `));\n",
              "    const percent = span('0% done');\n",
              "    li.appendChild(percent);\n",
              "\n",
              "    outputElement.appendChild(li);\n",
              "\n",
              "    const fileDataPromise = new Promise((resolve) => {\n",
              "      const reader = new FileReader();\n",
              "      reader.onload = (e) => {\n",
              "        resolve(e.target.result);\n",
              "      };\n",
              "      reader.readAsArrayBuffer(file);\n",
              "    });\n",
              "    // Wait for the data to be ready.\n",
              "    let fileData = yield {\n",
              "      promise: fileDataPromise,\n",
              "      response: {\n",
              "        action: 'continue',\n",
              "      }\n",
              "    };\n",
              "\n",
              "    // Use a chunked sending to avoid message size limits. See b/62115660.\n",
              "    let position = 0;\n",
              "    do {\n",
              "      const length = Math.min(fileData.byteLength - position, MAX_PAYLOAD_SIZE);\n",
              "      const chunk = new Uint8Array(fileData, position, length);\n",
              "      position += length;\n",
              "\n",
              "      const base64 = btoa(String.fromCharCode.apply(null, chunk));\n",
              "      yield {\n",
              "        response: {\n",
              "          action: 'append',\n",
              "          file: file.name,\n",
              "          data: base64,\n",
              "        },\n",
              "      };\n",
              "\n",
              "      let percentDone = fileData.byteLength === 0 ?\n",
              "          100 :\n",
              "          Math.round((position / fileData.byteLength) * 100);\n",
              "      percent.textContent = `${percentDone}% done`;\n",
              "\n",
              "    } while (position < fileData.byteLength);\n",
              "  }\n",
              "\n",
              "  // All done.\n",
              "  yield {\n",
              "    response: {\n",
              "      action: 'complete',\n",
              "    }\n",
              "  };\n",
              "}\n",
              "\n",
              "scope.google = scope.google || {};\n",
              "scope.google.colab = scope.google.colab || {};\n",
              "scope.google.colab._files = {\n",
              "  _uploadFiles,\n",
              "  _uploadFilesContinue,\n",
              "};\n",
              "})(self);\n",
              "</script> "
            ]
          },
          "metadata": {}
        }
      ],
      "source": [
        "from google.colab import files\n",
        "files.upload()\n",
        "\n",
        "!mkdir -p ~/.kaggle\n",
        "!cp kaggle.json ~/.kaggle/\n",
        "!chmod 600 ~/.kaggle/kaggle.json\n",
        "\n",
        "print(\"\\nSucessful\")"
      ]
    },
    {
      "cell_type": "markdown",
      "id": "oKceHBTlYxTW",
      "metadata": {
        "id": "oKceHBTlYxTW"
      },
      "source": [
        "- mkdir stands for make directory *-p* stands for parents. This creates a hidden directory in user's home directory. The role of -p here is that it allows you to create a full directory path, including paths that don't exist (it makes them if mentioned) so this avoids any kind of error.\n",
        "\n",
        "- **cp** stands for *copy files/directories* from one location to another. Here we are copying kaggle.json file. It was uploaded above and now we are storing it in our hidden directory that we made using mkdir. **~** represents home directory of current user.\n",
        "\n",
        "- **chmod** stands for change mode and it is used to change the file permissions.\n",
        "- 600 is an octal representation of permission settings.\n",
        "- 6 (first digit) provies read(4) + write(2) = 6 permissions for the owner of the file\n",
        "- 0 (second digit) no permissions for the group\n",
        "- 0 (third digit) no permissions for others\n",
        "\n",
        "This is important because kaggle.json contains important information. So it prevents unauthorized users of processes.\n",
        "\n",
        "---"
      ]
    },
    {
      "cell_type": "markdown",
      "id": "qTLImqNSdYL9",
      "metadata": {
        "id": "qTLImqNSdYL9"
      },
      "source": [
        "Here, you need to ensure that you have joined the competition first."
      ]
    },
    {
      "cell_type": "code",
      "execution_count": null,
      "id": "uKWZ3XRtX6Mu",
      "metadata": {
        "id": "uKWZ3XRtX6Mu"
      },
      "outputs": [],
      "source": [
        "!kaggle competitions download -c house-prices-advanced-regression-techniques"
      ]
    },
    {
      "cell_type": "markdown",
      "id": "9ZVKghWo2WQu",
      "metadata": {
        "id": "9ZVKghWo2WQu"
      },
      "source": [
        "- **-o** stands for overwrite, it overwrites any existing files. If overwrite didn't exist and the file already existed then it would have asked for permission to replace it"
      ]
    },
    {
      "cell_type": "code",
      "execution_count": null,
      "id": "_T26fzi-dVmG",
      "metadata": {
        "id": "_T26fzi-dVmG"
      },
      "outputs": [],
      "source": [
        "!unzip -o house-prices-advanced-regression-techniques.zip"
      ]
    },
    {
      "cell_type": "markdown",
      "id": "5n7Iry5PySjx",
      "metadata": {
        "id": "5n7Iry5PySjx"
      },
      "source": [
        "Machine learning has two types:\n",
        "\n",
        "1) Supervized: training data and testing data, it will guide the model to learn what is right and wrong, we know what kind of result we want. There are dependent and independent values and the value of dependent value is predicted with the help of independent value.\n",
        "- Independent values are known as features\n",
        "- Dependent values are known as labeled data\n",
        "\n",
        "2) Unsupervized: We don't know our target variable\n",
        "\n",
        "---"
      ]
    },
    {
      "cell_type": "markdown",
      "id": "9KFFN4_ZzeK3",
      "metadata": {
        "id": "9KFFN4_ZzeK3"
      },
      "source": [
        "#### Process:\n",
        "1) Our target variable is sales price\n",
        "2) We will find the features which will effect the sales price the most, like which has the most influence on it.\n",
        "3) Data cleaning\n",
        "4) Data preprocessing\n",
        "5) Feature Engineering"
      ]
    },
    {
      "cell_type": "markdown",
      "id": "M5Lv3xSQ3GJJ",
      "metadata": {
        "id": "M5Lv3xSQ3GJJ"
      },
      "source": [
        "## Set up for files"
      ]
    },
    {
      "cell_type": "code",
      "execution_count": null,
      "id": "sENhjBE1ySB-",
      "metadata": {
        "id": "sENhjBE1ySB-"
      },
      "outputs": [],
      "source": [
        "train_df = pd.read_csv('/content/train.csv')\n",
        "test_df = pd.read_csv('/content/test.csv')"
      ]
    },
    {
      "cell_type": "code",
      "execution_count": null,
      "id": "_DqiCZ6n3bO2",
      "metadata": {
        "id": "_DqiCZ6n3bO2"
      },
      "outputs": [],
      "source": [
        "train_df.head(5)"
      ]
    },
    {
      "cell_type": "markdown",
      "id": "jyCBZQXp3qum",
      "metadata": {
        "id": "jyCBZQXp3qum"
      },
      "source": [
        "Here we have Id which is counting the number of rows so we don't need an extra index."
      ]
    },
    {
      "cell_type": "code",
      "execution_count": null,
      "id": "R6NGbK01cDfg",
      "metadata": {
        "id": "R6NGbK01cDfg"
      },
      "outputs": [],
      "source": [
        "train_df.set_index('Id', inplace=True)\n",
        "test_df.set_index('Id', inplace=True)"
      ]
    },
    {
      "cell_type": "code",
      "execution_count": null,
      "id": "FddOvHVw33AY",
      "metadata": {
        "id": "FddOvHVw33AY"
      },
      "outputs": [],
      "source": [
        "train_df.head(2)"
      ]
    },
    {
      "cell_type": "code",
      "execution_count": null,
      "id": "HU_x01Gf4AZw",
      "metadata": {
        "id": "HU_x01Gf4AZw"
      },
      "outputs": [],
      "source": [
        "print(train_df.shape)\n",
        "print(test_df.shape)\n",
        "extra_columns = set(train_df.columns) - set(test_df.columns)\n",
        "print(extra_columns)"
      ]
    },
    {
      "cell_type": "code",
      "source": [
        "test_df.head(2)"
      ],
      "metadata": {
        "id": "vWmLZkSLRaa5"
      },
      "id": "vWmLZkSLRaa5",
      "execution_count": null,
      "outputs": []
    },
    {
      "cell_type": "markdown",
      "id": "0nqMKePl4fsQ",
      "metadata": {
        "id": "0nqMKePl4fsQ"
      },
      "source": [
        "## EDA on the Target Variable (Sales Price)"
      ]
    },
    {
      "cell_type": "code",
      "execution_count": null,
      "id": "o_SC-YYP4Fas",
      "metadata": {
        "id": "o_SC-YYP4Fas"
      },
      "outputs": [],
      "source": [
        "train_df[\"SalePrice\"]"
      ]
    },
    {
      "cell_type": "code",
      "execution_count": null,
      "id": "Ew3ZhUic4sYY",
      "metadata": {
        "id": "Ew3ZhUic4sYY"
      },
      "outputs": [],
      "source": [
        "train_df['SalePrice'].info()"
      ]
    },
    {
      "cell_type": "code",
      "execution_count": null,
      "id": "9YcHhQla4y4x",
      "metadata": {
        "id": "9YcHhQla4y4x"
      },
      "outputs": [],
      "source": [
        "train_df['SalePrice'].describe()"
      ]
    },
    {
      "cell_type": "code",
      "execution_count": null,
      "id": "f7_oaUMj43y6",
      "metadata": {
        "id": "f7_oaUMj43y6"
      },
      "outputs": [],
      "source": [
        "plt.figure(figsize=(14,6))\n",
        "\n",
        "sns.histplot(train_df['SalePrice'], kde=True, bins= 60, color=\"green\")\n",
        "plt.show()\n",
        "print(f\"Skewness of SalePrice: {train_df['SalePrice'].skew()}\")"
      ]
    },
    {
      "cell_type": "markdown",
      "id": "0fkGojmq5RAf",
      "metadata": {
        "id": "0fkGojmq5RAf"
      },
      "source": [
        "- There are outliers\n",
        "- Most sale price are around 140000\n",
        "![Skewness-copy.webp](data:image/webp;base64,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)\n",
        "- As we can see, the histogram is positively skewed (right skewed). We have to covert it to almost *no skewness* because it makes it easier to train the model that way.\n",
        "- A linear model assumes that variables are normally distributed.(Gaussian distribution). Mean = Median = Mode\n",
        "\n",
        "---"
      ]
    },
    {
      "cell_type": "markdown",
      "id": "9r63MhFj82TG",
      "metadata": {
        "id": "9r63MhFj82TG"
      },
      "source": [
        "To fix this issue we are going to appy log transformation. How is log transformation going to help here?\n",
        "Log transformation compresses values, to make them small. It compresses larger values much more than the small ones.\n",
        "- For example:\n",
        "- Difference between 10 and 1000 seems huge.\n",
        "- Difference between log(10) = 2.3 and log(1000)= 6.9 is way too small. This reduction in jump is what helps us to make a more symmetric histogram.\n",
        "- np.log1p is a NumPy function that calculates the natural logarithm of (1 + x) for each element in the input. np.log1p(x) is implemented to maintain high accuracy, especially when x is near zero.\n",
        "\n",
        "| Expression                   | Meaning                                                 | Use Case                                      |\n",
        "|------------------------------|--------------------------------------------------------|-----------------------------------------------|\n",
        "| (ln(x)\\) or `log_e(x)`     | Natural logarithm, base \\(e\\) (≈2.718)                 | Standard definition in mathematics            |\n",
        "| (ln(1 + x)\\) or `log1p(x)` | Natural log of 1 plus input, i.e., \\(\\ln(1 + x)\\)      | For input data including zeros; numerical stability |\n"
      ]
    },
    {
      "cell_type": "code",
      "execution_count": null,
      "id": "SLDLhsKV5JEE",
      "metadata": {
        "id": "SLDLhsKV5JEE"
      },
      "outputs": [],
      "source": [
        "train_df['SalePrice'] = np.log1p(train_df['SalePrice'])\n",
        "\n",
        "plt.figure(figsize=(15,7))\n",
        "\n",
        "sns.histplot(train_df['SalePrice'], kde = True, color = 'green')\n",
        "plt.show()\n",
        "print(f\"Skewness of SalePrice: {train_df['SalePrice'].skew()}\")"
      ]
    },
    {
      "cell_type": "markdown",
      "source": [
        "The skewness has gone low and the plot is close to a normal distribution. Skewness is close to zero."
      ],
      "metadata": {
        "id": "aMOkZ7V1kYCE"
      },
      "id": "aMOkZ7V1kYCE"
    },
    {
      "cell_type": "markdown",
      "source": [
        "## EDA on Feature Engineering"
      ],
      "metadata": {
        "id": "yJPv2rLhktep"
      },
      "id": "yJPv2rLhktep"
    },
    {
      "cell_type": "markdown",
      "source": [
        "We are going to use a heatmap to find positive correlation.\n",
        "What is that?\n",
        "- If two values are increasing or decreasing together then it's positive correlation.\n",
        "- If one value is going up and the other is going down then it is negative correlation.\n",
        "We are going to find columns which are influencing the SalePrice the most. (Numeric values only)\n",
        "\n",
        "---"
      ],
      "metadata": {
        "id": "dAJ7SCLGlBCu"
      },
      "id": "dAJ7SCLGlBCu"
    },
    {
      "cell_type": "markdown",
      "source": [
        "- **annot = True** means that the cells will show the datavalues, if it was false then the heatmap would have only included colors\n",
        "- **fmt** stands for format, it specifies string format for annotations (since annot = True)\n",
        "- **fmt = \".2f\"** means that the values will be upto 2 decimal points\n",
        "- **fmt = 'd'** is used for integer data.\n",
        "- **vmin** and **vmax** sets the lowest and highest value to start and end color in the colourmap to control appearance and ensure uniformity."
      ],
      "metadata": {
        "id": "HK2t1cH8n7kc"
      },
      "id": "HK2t1cH8n7kc"
    },
    {
      "cell_type": "code",
      "source": [
        "corrmat = train_df.corr(numeric_only=True)\n",
        "plt.figure(figsize=(15, 12))\n",
        "sns.heatmap(corrmat, annot=True, fmt=\".1f\", cmap='coolwarm', vmin=-1, vmax=1)\n",
        "plt.title('Correlation Matrix Heatmap for all numeric values')\n",
        "plt.show()"
      ],
      "metadata": {
        "id": "vOIzhhqojeFS"
      },
      "id": "vOIzhhqojeFS",
      "execution_count": null,
      "outputs": []
    },
    {
      "cell_type": "markdown",
      "source": [
        "- This is how all the numeric values are correlated with SalePrice.\n",
        "- I can see that OverallQual, GrLivArea, GarageCars, GarageArea, YearBuilt etc are positively correlated with SalePrice.\n",
        "\n",
        "---"
      ],
      "metadata": {
        "id": "Or8-_5lBp085"
      },
      "id": "Or8-_5lBp085"
    },
    {
      "cell_type": "markdown",
      "source": [
        "#### top_corr_features = corrmat.nlargest(10,'SalePrice').index\n",
        "- Stores index lables of the top ten features correlated with SalePrice\n",
        "- **corrmat.nlargest(10, 'SalePrice'):** This code is selecting 10 largest values from the column SalePrice in the dataframe corrmat.\n",
        "- **corrmat.nlargest(10,'SalePrice')['SalePrice']** Selects only SalePrice column\n",
        "- **.index** extracts index labels for the top 10 features.\n",
        "\n",
        "#### top_corr_matrix = train_df[top_corr_features].corr()\n",
        "\n",
        "- **train_df[top_corr_features]:** this part of code train_df is calling columns present in top_corr_features.\n",
        "- **.corr()** this creats a correlation matrix between the columns selected by train_df[top_corr_features]."
      ],
      "metadata": {
        "id": "9QF4w0k9qoiU"
      },
      "id": "9QF4w0k9qoiU"
    },
    {
      "cell_type": "code",
      "source": [
        "# Let's create a heatmap for the top 10 values.\n",
        "top_corr_features = corrmat.nlargest(10,'SalePrice').index\n",
        "print(top_corr_features)\n",
        "top_corr_matrix = train_df[top_corr_features].corr()\n",
        "top_corr_matrix"
      ],
      "metadata": {
        "id": "f5ZM0_ZTmmo5"
      },
      "id": "f5ZM0_ZTmmo5",
      "execution_count": null,
      "outputs": []
    },
    {
      "cell_type": "code",
      "source": [
        "plt.figure(figsize=(12,10))\n",
        "sns.heatmap(top_corr_matrix,annot=True, fmt='.1f', cmap='coolwarm', vmin = -1, vmax=1)\n",
        "plt.show()"
      ],
      "metadata": {
        "id": "ZkH13SiYsMcu"
      },
      "id": "ZkH13SiYsMcu",
      "execution_count": null,
      "outputs": []
    },
    {
      "cell_type": "markdown",
      "source": [
        "- So now I can see that the values posivtively correlated with SalePrice are OverallQual, GriLiveArea, GarageCars, GarageArea, TotalBsmtSF, 1stFlrSF, FullBath, YearBuilt, YearRemodAdd.\n",
        "- OverallQual is the most correlated with SalePrice and ('TotalBsmtSF', '1stFlrSF', 'FullBath', 'YearBuilt', 'YearRemodAdd') are least correlated.\n",
        "- From the most correlated, we can say that, Overall quality, Living area above around and size of garage influences the SalePrice the most."
      ],
      "metadata": {
        "id": "2JNOSwi-HrKy"
      },
      "id": "2JNOSwi-HrKy"
    },
    {
      "cell_type": "markdown",
      "source": [
        "## Data Preprocessing and Feature Engineering"
      ],
      "metadata": {
        "id": "ExfNRoKDKp-6"
      },
      "id": "ExfNRoKDKp-6"
    },
    {
      "cell_type": "markdown",
      "source": [
        "We have finished analyzing the target variable.\n",
        "- We transformed it's histplot to a normal distributed plot since linear agression assumes that the plot is normally distributed.\n",
        "- We learned about the numeric values which influence the SalePrice most.\n",
        "- Now it's time for handeling missing values and creating new features to prepare the data for modeling.\n",
        "\n",
        "---"
      ],
      "metadata": {
        "id": "uXRrNFbgLHnu"
      },
      "id": "uXRrNFbgLHnu"
    },
    {
      "cell_type": "markdown",
      "source": [
        "- **.loc** is used to select rows and columns by labels rather than their integer index. **Syntax** -> *df.loc[row_label, column_label]*\n",
        "- **.iloc** is for indexes\n",
        "- .loc[] selects columns including 'SaleCondition'\n",
        "- **train_df.loc[:,:'SaleCondition']**: We are selecting rows and columns upto SaleCondition from train and test data frames.\n",
        "- SalePrice is the last column in our dataframe and we are excluding it in the variable \"all_data\".\n",
        "* We are combining data of train and test together to preprocess all of them together, to ensure consistent transformation in both dataframes.This prevents data leakage and potential issues later.\n",
        "- first all rows and columns of train_df will be selected and then test_df dataframe.\n",
        "\n"
      ],
      "metadata": {
        "id": "CBwUr7L9NJdv"
      },
      "id": "CBwUr7L9NJdv"
    },
    {
      "cell_type": "code",
      "source": [
        "all_data = pd.concat((train_df.loc[:,:'SaleCondition'], test_df.loc[:,:'SaleCondition']))\n",
        "all_data"
      ],
      "metadata": {
        "id": "8UQw_gvxHZR0"
      },
      "id": "8UQw_gvxHZR0",
      "execution_count": null,
      "outputs": []
    },
    {
      "cell_type": "code",
      "source": [
        "print(all_data.shape) #Combined data\n",
        "print(train_df.shape)\n",
        "print(test_df.shape)"
      ],
      "metadata": {
        "id": "y3a1Vg8GPXFf"
      },
      "id": "y3a1Vg8GPXFf",
      "execution_count": null,
      "outputs": []
    },
    {
      "cell_type": "markdown",
      "source": [
        "### Handeling missing data"
      ],
      "metadata": {
        "id": "BgvLmv8REseG"
      },
      "id": "BgvLmv8REseG"
    },
    {
      "cell_type": "code",
      "source": [
        "missing_data = all_data.isna().sum().sort_values(ascending = False)\n",
        "print(missing_data)"
      ],
      "metadata": {
        "id": "Vyz7QwdfPfte"
      },
      "id": "Vyz7QwdfPfte",
      "execution_count": null,
      "outputs": []
    },
    {
      "cell_type": "markdown",
      "source": [
        "There are a lot of columns with no missing values, so let's look for columns which have missing values greater than zero"
      ],
      "metadata": {
        "id": "-jR-zASlTVcP"
      },
      "id": "-jR-zASlTVcP"
    },
    {
      "cell_type": "code",
      "source": [
        "missing_data = missing_data[missing_data> 0]\n",
        "print(missing_data)"
      ],
      "metadata": {
        "id": "yrCdQ6bwTHjM"
      },
      "id": "yrCdQ6bwTHjM",
      "execution_count": null,
      "outputs": []
    },
    {
      "cell_type": "markdown",
      "source": [
        "- **syntax:** DataFrame.select_dtypes(include=None, exclude=None)\n",
        "- examples for include: number, object, category, np.number, float64, int64\n",
        "- to select all numberic(integer,float etc.) columns - number or np.number\n",
        "- to select all catergorical/object columns - ['object', 'category']\n",
        "- to select all columns except float - exclude = 'float64'\n",
        "- .columns selects the columns\n"
      ],
      "metadata": {
        "id": "9_4mi81a_Kn-"
      },
      "id": "9_4mi81a_Kn-"
    },
    {
      "cell_type": "code",
      "source": [
        "numeric_cols = all_data.select_dtypes(include=[np.number]).columns\n",
        "missing_data_numeric = all_data[numeric_cols].isna().sum()\n",
        "missing_data_numeric = missing_data_numeric[missing_data_numeric > 0].sort_values(ascending=False)\n",
        "print(missing_data_numeric)"
      ],
      "metadata": {
        "id": "AC89qhX_FJs1"
      },
      "id": "AC89qhX_FJs1",
      "execution_count": null,
      "outputs": []
    },
    {
      "cell_type": "markdown",
      "source": [
        "- Columns which have less number of missing values, we are going to fill it with zero"
      ],
      "metadata": {
        "id": "kdggiRbpDfyz"
      },
      "id": "kdggiRbpDfyz"
    },
    {
      "cell_type": "code",
      "source": [
        "missing_data_numeric_zero = ['MasVnrArea', 'BsmtHalfBath', 'BsmtFullBath','BsmtFinSF1','BsmtFinSF2', 'TotalBsmtSF', 'BsmtUnfSF', 'GarageCars','GarageArea']\n",
        "for cols in missing_data_numeric_zero:\n",
        "  if cols in all_data.columns:\n",
        "    all_data[cols] = all_data[cols].fillna(0)\n"
      ],
      "metadata": {
        "id": "HkTe_j65Dc2G"
      },
      "id": "HkTe_j65Dc2G",
      "execution_count": null,
      "outputs": []
    },
    {
      "cell_type": "code",
      "source": [
        "all_data[['LotFrontage', 'GarageYrBlt']].describe()"
      ],
      "metadata": {
        "id": "7m-7niYfElOw"
      },
      "id": "7m-7niYfElOw",
      "execution_count": null,
      "outputs": []
    },
    {
      "cell_type": "code",
      "source": [
        "all_data['LotFrontage'].value_counts()"
      ],
      "metadata": {
        "id": "IQDPMeKoFOgL"
      },
      "id": "IQDPMeKoFOgL",
      "execution_count": null,
      "outputs": []
    },
    {
      "cell_type": "markdown",
      "source": [
        "- LotFrontage: Linear feet of street connected to property\n",
        "- Neighborhood: Physical locations within Ames city limits\n",
        "- The assumption here is that the Linear feet of street are linked with Neighborhood because every neighborhood follows specific laws, property layouts and planning regulations.\n",
        "\n",
        "---"
      ],
      "metadata": {
        "id": "DHlonAtLYEGT"
      },
      "id": "DHlonAtLYEGT"
    },
    {
      "cell_type": "markdown",
      "source": [
        "- **all_data.groupby('Neighborhood')** groups all unique values present in the Neighborhood column from all_data dataframe. This does not mean that the changes are literally made in the dataframe."
      ],
      "metadata": {
        "id": "X97m2JI8ZzNN"
      },
      "id": "X97m2JI8ZzNN"
    },
    {
      "cell_type": "code",
      "source": [
        "group = all_data.groupby('Neighborhood')\n",
        "print(group)"
      ],
      "metadata": {
        "id": "9xAdShDYXu-U"
      },
      "id": "9xAdShDYXu-U",
      "execution_count": null,
      "outputs": []
    },
    {
      "cell_type": "markdown",
      "source": [
        "- This output tells us the the groupby function is lazy, here this output is basically representing that the groupby function has created a lazy GroupBy object which knows how to group the rows in the neighborhood column\n",
        "- The hexadecimal value is the location where this object is stored\n",
        "- It won't actually group the Neighborhood values until we will provide an aggregation, transformation function or explicitly request grouped data.\n",
        "\n",
        "---"
      ],
      "metadata": {
        "id": "2k3kjLobeuEW"
      },
      "id": "2k3kjLobeuEW"
    },
    {
      "cell_type": "markdown",
      "source": [
        "1) all_data.groupby('Neighborhood') groups all the data under unique values of Neighborhood from all_data dataframe\n",
        "2) Now 'LotFrontage' values are arranged according to the Neighborhood. It means we are focusing only on the 'LotFrontage' values within each Neighborhood.\n",
        "3) .agg(['mean', 'median', 'std', 'count']): We are applying multiple aggregation functions to the LotFrontage values in different groups of Neighborhood\n",
        "4) We are sorting the values according to the median. This helps to quickly identify neighborhoods with smaller or larger median frontage."
      ],
      "metadata": {
        "id": "IQm5Owh5RqtF"
      },
      "id": "IQm5Owh5RqtF"
    },
    {
      "cell_type": "code",
      "source": [
        "group_stats = all_data.groupby('Neighborhood')['LotFrontage'].agg(['mean', 'median', 'std', 'count']).sort_values('median')\n",
        "print(group_stats)"
      ],
      "metadata": {
        "id": "Cw2PmjAJedDk"
      },
      "id": "Cw2PmjAJedDk",
      "execution_count": null,
      "outputs": []
    },
    {
      "cell_type": "markdown",
      "source": [
        "We can see the LotFrontage values for each neighborhood.\n",
        "- Median: For all the Lotfrontage values in a specific neighborhood, it gives us a central idea about those areas. (less affected by outliers)\n",
        "\n",
        "- std(standard deviation): It tells us about how much variability lies between the values. If std is low then it will mean the values are close. If std is high it means the values are far with a lot of variations.\n",
        "- count: shows us the number of houses in each neighborhood\n",
        "- mean: an average, if it's high their might be outliers\n",
        "\n",
        "**Insight**\n",
        "1) BrDale has the shortest lot frontage area where as NridgHt has largest lot frontage area\n",
        "2) The highest number of houses are present in NAmes. It's std is 19 which means the variations of lot frontage values are balanced, not too much and not too less.\n",
        "3) NoRidge means is 91 and it's median is 89 it means almost all houses in NoRidge have large areas\n",
        "\n",
        "---"
      ],
      "metadata": {
        "id": "zuWb8RuCWeWI"
      },
      "id": "zuWb8RuCWeWI"
    },
    {
      "cell_type": "code",
      "source": [
        "plt.figure(figsize=(12, 6))\n",
        "sns.boxplot(x='Neighborhood', y='LotFrontage', data=all_data)\n",
        "plt.xticks(rotation=270)\n",
        "plt.title('LotFrontage Distribution by Neighborhood')\n",
        "plt.show()"
      ],
      "metadata": {
        "id": "XB9iShJJX2Q6"
      },
      "id": "XB9iShJJX2Q6",
      "execution_count": null,
      "outputs": []
    },
    {
      "cell_type": "markdown",
      "source": [
        "##### How to read a box plot?\n",
        "- The line in the blue box represents the median. (half homes above and half homes below)\n",
        "- Blue box represents the middle 50% (from 25th percentile to 75th percentile) and is known as Interquartile range or IQR.\n",
        "- Whiskers are the lines extending from the box, they show the spread of most of the data (usually upto 1.5 times the IQR above and below the box)\n",
        "- Circles are *outliers* meaning the values which are much higher or lower than the typical values.\n",
        "\n",
        "**Insights**\n",
        "1) Blmngtn, NridgHt, SToneBr, Somerst and Blueste have no outliers. This means that the lotfrontage areas are evenly distributed in these areas.\n",
        "2) NAmes and Edwards has one very high outlier, it might mean that it is an open field or the person owning that land is very rich to have a area this big.\n",
        "3) NridgHt has it's median line higher in the box, it means that most of the people have a smaller Lot Frontage.\n",
        "\n",
        "---"
      ],
      "metadata": {
        "id": "HbYC_W7daTJw"
      },
      "id": "HbYC_W7daTJw"
    },
    {
      "cell_type": "markdown",
      "source": [
        "- if LotFrontage is in all_data and if any value in LotFrontage is null\n",
        "- isnull() returns a series of boolean values where true is for null value and false is for non-null value\n",
        "- any() checks if there is atleast one value in that series is true\n",
        "- we are not using isnull() alone because if condition expects one boolean value, not series of them. So any() returns one boolean value.\n",
        "- here groupby groups all unique values in the Neighborhood and then for each group in Neighborhood, I am calculating LotFrontage values.\n",
        "- Using the transform function for any value x if it's null then we are filling it with median.\n",
        "- All this is stored in all_data of 'LotFrontage' value\n"
      ],
      "metadata": {
        "id": "nUIWOg7BT7Wc"
      },
      "id": "nUIWOg7BT7Wc"
    },
    {
      "cell_type": "code",
      "source": [
        "# Impute LotFrontage with the median of the neighborhood\n",
        "if 'LotFrontage' in all_data.columns and all_data['LotFrontage'].isnull().any():\n",
        "    all_data['LotFrontage'] = all_data.groupby('Neighborhood')['LotFrontage'].transform(lambda x: x.fillna(x.median()))"
      ],
      "metadata": {
        "id": "eeoYG1Z5GyzU"
      },
      "id": "eeoYG1Z5GyzU",
      "execution_count": null,
      "outputs": []
    },
    {
      "cell_type": "code",
      "source": [
        "print(all_data['LotFronage'])"
      ],
      "metadata": {
        "id": "smVLKz5pRpYX",
        "outputId": "76a2d06d-b911-4bf3-f024-10c735a6c3a3",
        "colab": {
          "base_uri": "https://localhost:8080/",
          "height": 141
        }
      },
      "id": "smVLKz5pRpYX",
      "execution_count": 1,
      "outputs": [
        {
          "output_type": "error",
          "ename": "NameError",
          "evalue": "name 'all_data' is not defined",
          "traceback": [
            "\u001b[0;31m---------------------------------------------------------------------------\u001b[0m",
            "\u001b[0;31mNameError\u001b[0m                                 Traceback (most recent call last)",
            "\u001b[0;32m/tmp/ipython-input-3344025828.py\u001b[0m in \u001b[0;36m<cell line: 0>\u001b[0;34m()\u001b[0m\n\u001b[0;32m----> 1\u001b[0;31m \u001b[0mprint\u001b[0m\u001b[0;34m(\u001b[0m\u001b[0mall_data\u001b[0m\u001b[0;34m[\u001b[0m\u001b[0;34m'LotFronage'\u001b[0m\u001b[0;34m]\u001b[0m\u001b[0;34m)\u001b[0m\u001b[0;34m\u001b[0m\u001b[0;34m\u001b[0m\u001b[0m\n\u001b[0m",
            "\u001b[0;31mNameError\u001b[0m: name 'all_data' is not defined"
          ]
        }
      ]
    },
    {
      "cell_type": "markdown",
      "source": [
        "- If we explicitly don't set data types then pandas assigns object data type to any column with text or mixed types.\n",
        "- category is a panda datatype which is set for columns which have a fixed set of values. for example: yes, no or male, female or great,good,bad, worst\n",
        "- category dtype saves memory and allows for categorical operations\n",
        "- every categorical data type can be an object datatype but not every object datatype can be categorical datatype."
      ],
      "metadata": {
        "id": "2TFGBqXHB2JT"
      },
      "id": "2TFGBqXHB2JT"
    },
    {
      "cell_type": "code",
      "source": [
        "categorical_cols = all_data.select_dtypes(include=['object', 'category']).columns\n",
        "missing_data_categorical = all_data[categorical_cols].isna().sum()\n",
        "missing_data_categorical = missing_data_categorical[missing_data_categorical > 0].sort_values(ascending=False)\n",
        "print(missing_data_categorical)"
      ],
      "metadata": {
        "id": "VU62SkmiSh7U"
      },
      "id": "VU62SkmiSh7U",
      "execution_count": null,
      "outputs": []
    },
    {
      "cell_type": "code",
      "source": [],
      "metadata": {
        "id": "oS59WSzOSw1L"
      },
      "id": "oS59WSzOSw1L",
      "execution_count": null,
      "outputs": []
    }
  ],
  "metadata": {
    "colab": {
      "provenance": []
    },
    "kernelspec": {
      "display_name": "Python 3",
      "language": "python",
      "name": "python3"
    },
    "language_info": {
      "codemirror_mode": {
        "name": "ipython",
        "version": 3
      },
      "file_extension": ".py",
      "mimetype": "text/x-python",
      "name": "python",
      "nbconvert_exporter": "python",
      "pygments_lexer": "ipython3",
      "version": "3.11.0"
    }
  },
  "nbformat": 4,
  "nbformat_minor": 5
}
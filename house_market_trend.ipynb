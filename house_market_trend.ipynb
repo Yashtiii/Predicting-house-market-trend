{
 "cells": [
  {
   "cell_type": "markdown",
   "id": "2d44e477",
   "metadata": {},
   "source": [
    "## Core concepts"
   ]
  },
  {
   "cell_type": "markdown",
   "id": "ed035a0b",
   "metadata": {},
   "source": [
    "- **Regression:** Regression predicts a continuous number. It gives real values as outcome.\n",
    "- **Classification:** Classification predicts a categorical label. It gives a label as outcome.\n",
    "- **Target Variable Analysis:** Here we examine the features of a target variable which is dependent in nature. It is necessary because once we have examined what our target variable is like then we can set the other data accordingly to get good results in analysis. It also involved transformation. This step profiles the target variable to align preprocessing, transformation, and modeling strategies for better results\n",
    "- **Advanced data preprocessing:** It is like data processing, here we apply even more advanced strategies to pre process data.\n",
    "- **Feature Engineering:** Here we create new features using the pre-existing ones to get better information or underlying information that our data holds.\n",
    "- **Categorical Encoding:** When we have categorical values in our columns and we change it to numrical ones then it is known as categorical encoding.\n",
    "- **Model Building:** It is the process of training and validating an algorithm with the use dependent and independent variables.\n",
    "- **Model Evaluation:** Once our model is training then we test our model to evaluate the accuracy of our model, that is known as model evaluation."
   ]
  },
  {
   "cell_type": "markdown",
   "id": "0d240070",
   "metadata": {},
   "source": [
    "## Importing libraries"
   ]
  },
  {
   "cell_type": "markdown",
   "id": "b12bd709",
   "metadata": {},
   "source": [
    "- **pandas:** used to perform operations on structured data with tables\n",
    "- **numpy:** used to perform mathematical operations on arrays, matrices \n",
    "- **matplotlib.pyplot:** used to plotting rows and columns in different kinds of charts (basic)\n",
    "- **seaborn:** holds a collection of graphs and charts which can plot and visualize data in a better way (advanced) (built on matplotlib)\n",
    "- **scipy.stats:** provides statistical functions, here **skew** measures asymmetry in data distribution\n",
    "- **sklearn.model_selection:** **(train_test_split)** splits dataset into training and testing sets for model validation\n",
    "- **sklearn.preprocessing:** **(StandardScaler, LabelEncoder)** StandardScaler normalizes numeric features to a normal scale, LabelEncoder converts categorical labels to numbers\n",
    "- **sklearn.linear_model:** **LinearRegression** for linear regresion, linear regression is a machine learning algorithm based on the equation y = mx + c\n",
    "**sklearn.metrics:** **(mean_squared_error, r2_score, mean_absolute_error)** these are metrics to evaluate a regression model's accuracy and error\n",
    "**xgboost:** It's an efficient library for powerful machine learning models, often used for structured(tables) data prediction\n",
    "**os:** provides operating system interaction capabilities."
   ]
  },
  {
   "cell_type": "code",
   "execution_count": 1,
   "id": "88bbb1ab",
   "metadata": {},
   "outputs": [],
   "source": [
    "import pandas as pd\n",
    "import numpy as np\n",
    "import matplotlib.pyplot as plt\n",
    "import seaborn as sns\n",
    "from scipy.stats import skew\n",
    "from sklearn.model_selection import train_test_split\n",
    "from sklearn.preprocessing import StandardScaler, LabelEncoder\n",
    "from sklearn.linear_model import LinearRegression\n",
    "from sklearn.metrics import mean_squared_error, r2_score, mean_absolute_error\n",
    "import xgboost as xgb\n",
    "import os"
   ]
  },
  {
   "cell_type": "code",
   "execution_count": 2,
   "id": "3ddf7e8b",
   "metadata": {},
   "outputs": [],
   "source": [
    "# setting plot style\n",
    "sns.set_style('whitegrid')"
   ]
  },
  {
   "cell_type": "markdown",
   "id": "d220cab7",
   "metadata": {},
   "source": [
    "## Data loading via kaggle"
   ]
  },
  {
   "cell_type": "code",
   "execution_count": null,
   "id": "6731d14e",
   "metadata": {},
   "outputs": [],
   "source": []
  },
  {
   "cell_type": "code",
   "execution_count": null,
   "id": "9e2b944e",
   "metadata": {},
   "outputs": [],
   "source": []
  },
  {
   "cell_type": "code",
   "execution_count": null,
   "id": "ef4b001f",
   "metadata": {},
   "outputs": [],
   "source": []
  }
 ],
 "metadata": {
  "kernelspec": {
   "display_name": "Python 3",
   "language": "python",
   "name": "python3"
  },
  "language_info": {
   "codemirror_mode": {
    "name": "ipython",
    "version": 3
   },
   "file_extension": ".py",
   "mimetype": "text/x-python",
   "name": "python",
   "nbconvert_exporter": "python",
   "pygments_lexer": "ipython3",
   "version": "3.11.0"
  }
 },
 "nbformat": 4,
 "nbformat_minor": 5
}
